{
 "cells": [
  {
   "cell_type": "markdown",
   "metadata": {
    "id": "KCVJXznIEE_p"
   },
   "source": [
    "# <center>Computer Vision</center>  <center>Spring 2022</center> "
   ]
  },
  {
   "cell_type": "markdown",
   "metadata": {
    "id": "iarAekvREPaX"
   },
   "source": [
    "### i) Functions\n",
    "A function is defined using def keyword and ends with :\n",
    "```\n",
    "def funcName(arg1, arg2, ... , argN):\n",
    "     ### statements\n",
    "     return value\n",
    "```"
   ]
  },
  {
   "cell_type": "code",
   "execution_count": 7,
   "metadata": {
    "colab": {
     "base_uri": "https://localhost:8080/"
    },
    "executionInfo": {
     "elapsed": 1170,
     "status": "ok",
     "timestamp": 1611291724673,
     "user": {
      "displayName": "ARBISH AKRAM",
      "photoUrl": "https://lh3.googleusercontent.com/a-/AOh14GibOMqRHuDtNm_9Xp51XmNXlffO1lnbt8KERz568Q=s64",
      "userId": "07144718352820072135"
     },
     "user_tz": -300
    },
    "id": "nFeyRqDGFNMU",
    "outputId": "26e296b2-9551-4134-d9c1-55a9f1442a5c"
   },
   "outputs": [
    {
     "ename": "SyntaxError",
     "evalue": "non-default argument follows default argument (Temp/ipykernel_12480/996701036.py, line 1)",
     "output_type": "error",
     "traceback": [
      "\u001b[1;36m  File \u001b[1;32m\"C:\\Users\\Lenovo\\AppData\\Local\\Temp/ipykernel_12480/996701036.py\"\u001b[1;36m, line \u001b[1;32m1\u001b[0m\n\u001b[1;33m    def calculate_area(l=5,w):\u001b[0m\n\u001b[1;37m                       ^\u001b[0m\n\u001b[1;31mSyntaxError\u001b[0m\u001b[1;31m:\u001b[0m non-default argument follows default argument\n"
     ]
    }
   ],
   "source": [
    "def calculate_area(w, l=5):\n",
    "    area = l*w\n",
    "    \n",
    "    return area\n",
    "    \n",
    "    \n",
    "area = calculate_area(5, 6)\n",
    "print(\"The area is \",area)"
   ]
  },
  {
   "cell_type": "markdown",
   "metadata": {
    "id": "W_FM7GBNF_X2"
   },
   "source": [
    "#### ii) Classes\n",
    "A class is defined using class keyword followed by the class name and a colon.\n",
    "The indented body of class includes all the methods of this class.\n",
    "```\n",
    "class className:\n",
    "  pass\n",
    "```\n"
   ]
  },
  {
   "cell_type": "code",
   "execution_count": 2,
   "metadata": {
    "colab": {
     "base_uri": "https://localhost:8080/"
    },
    "executionInfo": {
     "elapsed": 1178,
     "status": "ok",
     "timestamp": 1611291908110,
     "user": {
      "displayName": "ARBISH AKRAM",
      "photoUrl": "https://lh3.googleusercontent.com/a-/AOh14GibOMqRHuDtNm_9Xp51XmNXlffO1lnbt8KERz568Q=s64",
      "userId": "07144718352820072135"
     },
     "user_tz": -300
    },
    "id": "7fYJAy7mJpL2",
    "outputId": "2aa38638-574a-4ef1-dc4a-86a156b4ccf4"
   },
   "outputs": [
    {
     "name": "stdout",
     "output_type": "stream",
     "text": [
      "['Computer Vision']\n"
     ]
    }
   ],
   "source": [
    "class Student:\n",
    "  def __init__(self, id, name, age, gender):\n",
    "      self.id = id\n",
    "      self.name = name\n",
    "      self.age = age\n",
    "      self.gender = gender\n",
    "      self.courses = []\n",
    "    \n",
    "  def add_course(self, course):\n",
    "      self.courses.append(course)\n",
    "\n",
    "  def print_course(self):\n",
    "      print(self.courses)\n",
    "    \n",
    "st1 = Student(\"001\", \"Maha\", \"90\", \"F\")\n",
    "st1.add_course(\"Computer Vision\")\n",
    "st1.print_course()"
   ]
  },
  {
   "cell_type": "code",
   "execution_count": 3,
   "metadata": {
    "colab": {
     "base_uri": "https://localhost:8080/"
    },
    "executionInfo": {
     "elapsed": 1134,
     "status": "ok",
     "timestamp": 1611291959627,
     "user": {
      "displayName": "ARBISH AKRAM",
      "photoUrl": "https://lh3.googleusercontent.com/a-/AOh14GibOMqRHuDtNm_9Xp51XmNXlffO1lnbt8KERz568Q=s64",
      "userId": "07144718352820072135"
     },
     "user_tz": -300
    },
    "id": "lELanyZPLXiz",
    "outputId": "5a65b158-fa91-49dd-efad-39f129d71acf"
   },
   "outputs": [
    {
     "name": "stdout",
     "output_type": "stream",
     "text": [
      "['Computer Vision', 'Data Science']\n",
      "['Computer Vision']\n",
      "<__main__.Student object at 0x0000027F642A6D90>\n"
     ]
    }
   ],
   "source": [
    "st2 = Student(\"002\", \"Noor\", \"9\", \"F\")\n",
    "st2.add_course(\"Computer Vision\")\n",
    "st2.add_course(\"Data Science\")\n",
    "st2.print_course()\n",
    "st1.print_course()\n",
    "print(st1)"
   ]
  },
  {
   "cell_type": "markdown",
   "metadata": {
    "id": "TP2Exju9MVDq"
   },
   "source": [
    "**The self identifier**\n",
    "*   The self method is used to represent the instance of the class. \n",
    "*   With this keyword, we can access the attributes and methods of the class.\n"
   ]
  },
  {
   "cell_type": "markdown",
   "metadata": {
    "id": "9kmDKh1XM6iS"
   },
   "source": [
    "**Init method**\n",
    "*   The init method serves as the constructor of the class.\n",
    "*   The difference between default vs parameterized init method can be seen below\n",
    "\n"
   ]
  },
  {
   "cell_type": "code",
   "execution_count": null,
   "metadata": {
    "id": "qZTDFCFbL8KN"
   },
   "outputs": [],
   "source": [
    "class Person:\n",
    "  def __init__(self):\n",
    "    # initializing instance variable\n",
    "    self.age = 78\n",
    "\n",
    "  def __init__(self, age):\n",
    "    self.age = age"
   ]
  },
  {
   "cell_type": "code",
   "execution_count": 14,
   "metadata": {
    "colab": {
     "base_uri": "https://localhost:8080/"
    },
    "executionInfo": {
     "elapsed": 1182,
     "status": "ok",
     "timestamp": 1611292053252,
     "user": {
      "displayName": "ARBISH AKRAM",
      "photoUrl": "https://lh3.googleusercontent.com/a-/AOh14GibOMqRHuDtNm_9Xp51XmNXlffO1lnbt8KERz568Q=s64",
      "userId": "07144718352820072135"
     },
     "user_tz": -300
    },
    "id": "HkiWgVPPINgs",
    "outputId": "84541185-64d0-4109-86c5-3f4f3f1667ce"
   },
   "outputs": [
    {
     "name": "stdout",
     "output_type": "stream",
     "text": [
      "Hi, i am Noor\n"
     ]
    }
   ],
   "source": [
    "class Person:\n",
    "    # Constructor\n",
    "    \n",
    "    def __init__(self, name): # Create an instance variable\n",
    "        self._name = name\n",
    "        \n",
    "    def getName(self):\n",
    "        return self._name\n",
    "        \n",
    "    # Instance method    \n",
    "    def talk(self):\n",
    "        print(\"Hi, i am \" + self.getName())\n",
    "        \n",
    "p1 = Person(\"Noor\") # Construct an instance of the person class\n",
    "p1.talk() # Call an instance method"
   ]
  },
  {
   "cell_type": "code",
   "execution_count": 17,
   "metadata": {},
   "outputs": [
    {
     "data": {
      "text/plain": [
       "'Noor'"
      ]
     },
     "execution_count": 17,
     "metadata": {},
     "output_type": "execute_result"
    }
   ],
   "source": [
    "p1.getName()"
   ]
  },
  {
   "cell_type": "code",
   "execution_count": null,
   "metadata": {},
   "outputs": [],
   "source": []
  }
 ],
 "metadata": {
  "colab": {
   "authorship_tag": "ABX9TyNvc8PlMTd2zC2487py+o2E",
   "collapsed_sections": [],
   "name": "4 functions_and_classes.ipynb",
   "provenance": []
  },
  "kernelspec": {
   "display_name": "Python 3 (ipykernel)",
   "language": "python",
   "name": "python3"
  },
  "language_info": {
   "codemirror_mode": {
    "name": "ipython",
    "version": 3
   },
   "file_extension": ".py",
   "mimetype": "text/x-python",
   "name": "python",
   "nbconvert_exporter": "python",
   "pygments_lexer": "ipython3",
   "version": "3.8.5"
  }
 },
 "nbformat": 4,
 "nbformat_minor": 1
}
