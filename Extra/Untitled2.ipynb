{
 "cells": [
  {
   "cell_type": "code",
   "execution_count": 10,
   "id": "627f2d09",
   "metadata": {},
   "outputs": [],
   "source": [
    "import pandas as pd"
   ]
  },
  {
   "cell_type": "code",
   "execution_count": 14,
   "id": "b21a07de",
   "metadata": {},
   "outputs": [
    {
     "name": "stdout",
     "output_type": "stream",
     "text": [
      "Yes\\n    32\n",
      "No\\n      1\n",
      "dtype: int64\n"
     ]
    }
   ],
   "source": [
    "f = open(\"D:\\input.txt\", \"r\")\n",
    "counts = pd.Series(f).value_counts()\n",
    "print(counts)"
   ]
  },
  {
   "cell_type": "code",
   "execution_count": 15,
   "id": "7b74a2a2",
   "metadata": {},
   "outputs": [
    {
     "name": "stdout",
     "output_type": "stream",
     "text": [
      "Highly Familiar\\n    27\n",
      "Familiar\\n            5\n",
      "Not Familiar\\n        1\n",
      "dtype: int64\n"
     ]
    }
   ],
   "source": [
    "f = open(\"D:\\input.txt\", \"r\")\n",
    "counts = pd.Series(f).value_counts()\n",
    "print(counts)"
   ]
  },
  {
   "cell_type": "code",
   "execution_count": 21,
   "id": "90d126de",
   "metadata": {},
   "outputs": [
    {
     "name": "stdout",
     "output_type": "stream",
     "text": [
      "Funny Memes\\n            27\n",
      "Political Memes\\n         3\n",
      "Informational Memes\\n     2\n",
      "Religious Memes\\n         1\n",
      "dtype: int64\n"
     ]
    }
   ],
   "source": [
    "f = open(\"D:\\input.txt\", \"r\")\n",
    "counts = pd.Series(f).value_counts()\n",
    "print(counts)"
   ]
  },
  {
   "cell_type": "code",
   "execution_count": 22,
   "id": "118bec84",
   "metadata": {},
   "outputs": [
    {
     "name": "stdout",
     "output_type": "stream",
     "text": [
      "No\\n                26\n",
      "To Some Extent\\n     4\n",
      "Yes\\n                3\n",
      "dtype: int64\n"
     ]
    }
   ],
   "source": [
    "f = open(\"D:\\input.txt\", \"r\")\n",
    "counts = pd.Series(f).value_counts()\n",
    "print(counts)"
   ]
  },
  {
   "cell_type": "code",
   "execution_count": 23,
   "id": "d0103649",
   "metadata": {},
   "outputs": [
    {
     "name": "stdout",
     "output_type": "stream",
     "text": [
      "Rs. 2,000\\n     23\n",
      "Rs. 3,000\\n      6\n",
      "Rs. 5,000\\n      3\n",
      "Rs. 10,000\\n     1\n",
      "dtype: int64\n"
     ]
    }
   ],
   "source": [
    "f = open(\"D:\\input.txt\", \"r\")\n",
    "counts = pd.Series(f).value_counts()\n",
    "print(counts)"
   ]
  },
  {
   "cell_type": "code",
   "execution_count": 24,
   "id": "5f79fc91",
   "metadata": {},
   "outputs": [
    {
     "name": "stdout",
     "output_type": "stream",
     "text": [
      "1K to 50K\\n       26\n",
      "Less than 1K\\n     7\n",
      "dtype: int64\n"
     ]
    }
   ],
   "source": [
    "f = open(\"D:\\input.txt\", \"r\")\n",
    "counts = pd.Series(f).value_counts()\n",
    "print(counts)"
   ]
  },
  {
   "cell_type": "code",
   "execution_count": 25,
   "id": "d43351e1",
   "metadata": {},
   "outputs": [
    {
     "name": "stdout",
     "output_type": "stream",
     "text": [
      "No\\n                16\n",
      "To some extent\\n    12\n",
      "Yes\\n                5\n",
      "dtype: int64\n"
     ]
    }
   ],
   "source": [
    "f = open(\"D:\\input.txt\", \"r\")\n",
    "counts = pd.Series(f).value_counts()\n",
    "print(counts)"
   ]
  },
  {
   "cell_type": "code",
   "execution_count": 26,
   "id": "a38a7bb5",
   "metadata": {},
   "outputs": [
    {
     "name": "stdout",
     "output_type": "stream",
     "text": [
      "Most Likely\\n    16\n",
      "Likely\\n         12\n",
      "Not Likely\\n      5\n",
      "dtype: int64\n"
     ]
    }
   ],
   "source": [
    "f = open(\"D:\\input.txt\", \"r\")\n",
    "counts = pd.Series(f).value_counts()\n",
    "print(counts)"
   ]
  },
  {
   "cell_type": "code",
   "execution_count": 27,
   "id": "487d7558",
   "metadata": {},
   "outputs": [
    {
     "name": "stdout",
     "output_type": "stream",
     "text": [
      "Likely\\n         18\n",
      "Most Likely\\n    11\n",
      "Not Likely\\n      4\n",
      "dtype: int64\n"
     ]
    }
   ],
   "source": [
    "f = open(\"D:\\input.txt\", \"r\")\n",
    "counts = pd.Series(f).value_counts()\n",
    "print(counts)"
   ]
  },
  {
   "cell_type": "code",
   "execution_count": 28,
   "id": "0f039d71",
   "metadata": {},
   "outputs": [
    {
     "name": "stdout",
     "output_type": "stream",
     "text": [
      "Most Likely\\n    13\n",
      "Likely\\n         13\n",
      "Not Likely\\n      7\n",
      "dtype: int64\n"
     ]
    }
   ],
   "source": [
    "f = open(\"D:\\input.txt\", \"r\")\n",
    "counts = pd.Series(f).value_counts()\n",
    "print(counts)"
   ]
  },
  {
   "cell_type": "code",
   "execution_count": 29,
   "id": "43e72049",
   "metadata": {},
   "outputs": [
    {
     "name": "stdout",
     "output_type": "stream",
     "text": [
      "Not Likely\\n     17\n",
      "Likely\\n         11\n",
      "Most Likely\\n     5\n",
      "dtype: int64\n"
     ]
    }
   ],
   "source": [
    "f = open(\"D:\\input.txt\", \"r\")\n",
    "counts = pd.Series(f).value_counts()\n",
    "print(counts)"
   ]
  },
  {
   "cell_type": "code",
   "execution_count": 30,
   "id": "994d1bf4",
   "metadata": {},
   "outputs": [
    {
     "name": "stdout",
     "output_type": "stream",
     "text": [
      "To Some Extent\\n    13\n",
      "Yes\\n               10\n",
      "Not at all\\n        10\n",
      "dtype: int64\n"
     ]
    }
   ],
   "source": [
    "f = open(\"D:\\input.txt\", \"r\")\n",
    "counts = pd.Series(f).value_counts()\n",
    "print(counts)"
   ]
  },
  {
   "cell_type": "code",
   "execution_count": null,
   "id": "74733405",
   "metadata": {},
   "outputs": [],
   "source": []
  }
 ],
 "metadata": {
  "kernelspec": {
   "display_name": "Python 3 (ipykernel)",
   "language": "python",
   "name": "python3"
  },
  "language_info": {
   "codemirror_mode": {
    "name": "ipython",
    "version": 3
   },
   "file_extension": ".py",
   "mimetype": "text/x-python",
   "name": "python",
   "nbconvert_exporter": "python",
   "pygments_lexer": "ipython3",
   "version": "3.9.7"
  }
 },
 "nbformat": 4,
 "nbformat_minor": 5
}
