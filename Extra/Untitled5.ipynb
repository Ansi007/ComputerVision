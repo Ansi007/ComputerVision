{
 "cells": [
  {
   "cell_type": "code",
   "execution_count": 6,
   "id": "d66567f2",
   "metadata": {},
   "outputs": [
    {
     "name": "stderr",
     "output_type": "stream",
     "text": [
      "\u001b[32m16:06:55\u001b[0m :: \u001b[1;35m   Helper    \u001b[0m :: \u001b[1;31m\u001b[2;33mWARNING \u001b[0m :: \u001b[1;37mGStreamer not found!\u001b[0m\n",
      "\u001b[32m16:06:55\u001b[0m :: \u001b[1;35m   Helper    \u001b[0m :: \u001b[1;33m DEBUG  \u001b[0m :: \u001b[1;37mSelecting `best` resolution for streams.\u001b[0m\n",
      "\u001b[32m16:06:55\u001b[0m :: \u001b[1;35m   CamGear   \u001b[0m :: \u001b[1;36m  INFO  \u001b[0m :: \u001b[1;37mVerifying Streaming URL using yt-dlp backend. Please wait...\u001b[0m\n",
      "\u001b[32m16:06:57\u001b[0m :: \u001b[1;35m   CamGear   \u001b[0m :: \u001b[1;36m  INFO  \u001b[0m :: \u001b[1;37m[Backend] :: Streaming URL is fully supported. Available Streams are: [144p, 240p, 360p, 480p, 720p, 1080p, best, worst]\u001b[0m\n",
      "\u001b[32m16:06:57\u001b[0m :: \u001b[1;35m   CamGear   \u001b[0m :: \u001b[1;33m DEBUG  \u001b[0m :: \u001b[1;37mUsing `best` resolution for streaming.\u001b[0m\n",
      "\u001b[32m16:06:57\u001b[0m :: \u001b[1;35m   CamGear   \u001b[0m :: \u001b[1;33m DEBUG  \u001b[0m :: \u001b[1;37mYouTube source ID: `dQw4w9WgXcQ`, Title: `Rick Astley - Never Gonna Give You Up (Official Music Video)`, Quality: `best`\u001b[0m\n",
      "\u001b[32m16:06:57\u001b[0m :: \u001b[1;35m   CamGear   \u001b[0m :: \u001b[1;33m DEBUG  \u001b[0m :: \u001b[1;37mEnabling Threaded Queue Mode for the current video source!\u001b[0m\n",
      "\u001b[32m16:07:09\u001b[0m :: \u001b[1;35m   CamGear   \u001b[0m :: \u001b[1;33m DEBUG  \u001b[0m :: \u001b[1;37mTerminating processes.\u001b[0m\n"
     ]
    }
   ],
   "source": [
    "# import libraries\n",
    "from vidgear.gears import CamGear\n",
    "import cv2\n",
    "\n",
    "\n",
    "stream = CamGear(source='https://youtu.be/dQw4w9WgXcQ', stream_mode = True, logging=True).start() # YouTube Video URL as input\n",
    "\n",
    "frame_width = int(800)\n",
    "frame_height = int(800)\n",
    "   \n",
    "size = (frame_width, frame_height)\n",
    "\n",
    "result = cv2.VideoWriter('filename.mp4', \n",
    "                         cv2.VideoWriter_fourcc(*'MJPG'),\n",
    "                         10, size)\n",
    "\n",
    "# infinite loop\n",
    "while True:\n",
    "    \n",
    "    frame = stream.read()\n",
    "    # read frames\n",
    "\n",
    "    # check if frame is None\n",
    "    if frame is None:\n",
    "        #if True break the infinite loop\n",
    "        break\n",
    "    \n",
    "    # do something with frame here\n",
    "    result.write(frame)\n",
    "    cv2.imshow(\"Output Frame\", frame)\n",
    "    # Show output window\n",
    "\n",
    "    key = cv2.waitKey(1) & 0xFF\n",
    "    # check for 'q' key-press\n",
    "    if key == ord(\"q\"):\n",
    "        #if 'q' key-pressed break out\n",
    "        break\n",
    "\n",
    "cv2.destroyAllWindows()\n",
    "# close output window\n",
    "\n",
    "# safely close video stream.\n",
    "result.release()\n",
    "stream.stop()"
   ]
  },
  {
   "cell_type": "code",
   "execution_count": 11,
   "id": "0ba31713",
   "metadata": {},
   "outputs": [
    {
     "name": "stdout",
     "output_type": "stream",
     "text": [
      "Collecting vidgear\n",
      "  Downloading vidgear-0.2.6-py3-none-any.whl (111 kB)\n",
      "Requirement already satisfied: requests in c:\\users\\anns\\anaconda3\\lib\\site-packages (from vidgear) (2.26.0)\n",
      "Requirement already satisfied: tqdm in c:\\users\\anns\\anaconda3\\lib\\site-packages (from vidgear) (4.62.3)\n",
      "Requirement already satisfied: cython in c:\\users\\anns\\anaconda3\\lib\\site-packages (from vidgear) (0.29.24)\n",
      "Collecting colorlog\n",
      "  Downloading colorlog-6.6.0-py2.py3-none-any.whl (11 kB)\n",
      "Requirement already satisfied: numpy in c:\\users\\anns\\anaconda3\\lib\\site-packages (from vidgear) (1.20.3)\n",
      "Requirement already satisfied: colorama in c:\\users\\anns\\anaconda3\\lib\\site-packages (from colorlog->vidgear) (0.4.4)\n",
      "Requirement already satisfied: charset-normalizer~=2.0.0 in c:\\users\\anns\\anaconda3\\lib\\site-packages (from requests->vidgear) (2.0.4)\n",
      "Requirement already satisfied: certifi>=2017.4.17 in c:\\users\\anns\\anaconda3\\lib\\site-packages (from requests->vidgear) (2021.10.8)\n",
      "Requirement already satisfied: urllib3<1.27,>=1.21.1 in c:\\users\\anns\\anaconda3\\lib\\site-packages (from requests->vidgear) (1.26.7)\n",
      "Requirement already satisfied: idna<4,>=2.5 in c:\\users\\anns\\anaconda3\\lib\\site-packages (from requests->vidgear) (3.2)\n",
      "Installing collected packages: colorlog, vidgear\n",
      "Successfully installed colorlog-6.6.0 vidgear-0.2.6\n",
      "Note: you may need to restart the kernel to use updated packages.\n"
     ]
    }
   ],
   "source": [
    "pip install vidgear"
   ]
  },
  {
   "cell_type": "code",
   "execution_count": null,
   "id": "66e916de",
   "metadata": {},
   "outputs": [],
   "source": [
    "pip install yt_dlp"
   ]
  },
  {
   "cell_type": "code",
   "execution_count": null,
   "id": "aa32b80f",
   "metadata": {},
   "outputs": [],
   "source": []
  }
 ],
 "metadata": {
  "kernelspec": {
   "display_name": "Python 3 (ipykernel)",
   "language": "python",
   "name": "python3"
  },
  "language_info": {
   "codemirror_mode": {
    "name": "ipython",
    "version": 3
   },
   "file_extension": ".py",
   "mimetype": "text/x-python",
   "name": "python",
   "nbconvert_exporter": "python",
   "pygments_lexer": "ipython3",
   "version": "3.9.7"
  }
 },
 "nbformat": 4,
 "nbformat_minor": 5
}
