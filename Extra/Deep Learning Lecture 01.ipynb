{
 "cells": [
  {
   "cell_type": "code",
   "execution_count": 24,
   "id": "378e72ce",
   "metadata": {},
   "outputs": [],
   "source": [
    "import math\n",
    "w = -1"
   ]
  },
  {
   "cell_type": "markdown",
   "id": "9f7d6c39",
   "metadata": {},
   "source": [
    "# Learning"
   ]
  },
  {
   "cell_type": "code",
   "execution_count": 25,
   "id": "3617080c",
   "metadata": {},
   "outputs": [],
   "source": [
    "def f(x,w):\n",
    "    y = []\n",
    "    for i in x:\n",
    "        y.append(i*w)\n",
    "    return y\n",
    "\n",
    "def Error(t,y):\n",
    "    e = 0\n",
    "    for i in range(len(t)):\n",
    "        diff = y[i] - t[i]\n",
    "        diff = diff ** 2\n",
    "        e += diff\n",
    "    e /= 2\n",
    "    return e"
   ]
  },
  {
   "cell_type": "code",
   "execution_count": 26,
   "id": "9b3d36d7",
   "metadata": {},
   "outputs": [],
   "source": [
    "x = [2,4,6,8,10,-12,14]\n",
    "t = [4,8,12,16,20,-24,28]"
   ]
  },
  {
   "cell_type": "code",
   "execution_count": 27,
   "id": "aa142c6a",
   "metadata": {},
   "outputs": [
    {
     "name": "stdout",
     "output_type": "stream",
     "text": [
      "[4, 8, 12, 16, 20, -24, 28]\n",
      "2\n"
     ]
    }
   ],
   "source": [
    "e = 10000000\n",
    "while e > 0:\n",
    "    w += 1\n",
    "    y = f(x,w)\n",
    "    e = Error(t,y)\n",
    "print(y)\n",
    "print(w)"
   ]
  },
  {
   "cell_type": "markdown",
   "id": "e5f999e0",
   "metadata": {},
   "source": [
    "# Testing"
   ]
  },
  {
   "cell_type": "code",
   "execution_count": 31,
   "id": "20d589d9",
   "metadata": {},
   "outputs": [
    {
     "name": "stdout",
     "output_type": "stream",
     "text": [
      "[30, 246, 6, -68, 468, -66, 88, 2, 2, 6, 8, 468, -88, 4, 0, 2]\n"
     ]
    }
   ],
   "source": [
    "x = [15,123,3,-34,234,-33,44,1,1,3,4,234,-44,2,0,1]\n",
    "y = f(x,w)\n",
    "print(y)"
   ]
  },
  {
   "cell_type": "code",
   "execution_count": 32,
   "id": "3c72fdba",
   "metadata": {},
   "outputs": [
    {
     "name": "stdout",
     "output_type": "stream",
     "text": [
      "Your function is testified truely\n"
     ]
    }
   ],
   "source": [
    "t = [30, 246, 6, -68, 468, -66, 88, 2, 2, 6, 8, 468, -88, 4, 0, 2]\n",
    "if Error(y,t) == 0:\n",
    "    print(\"Your function is testified truely\")\n",
    "else:\n",
    "    print(\"You need to work on that!\")"
   ]
  },
  {
   "cell_type": "code",
   "execution_count": null,
   "id": "cc894982",
   "metadata": {},
   "outputs": [],
   "source": []
  }
 ],
 "metadata": {
  "kernelspec": {
   "display_name": "Python 3 (ipykernel)",
   "language": "python",
   "name": "python3"
  },
  "language_info": {
   "codemirror_mode": {
    "name": "ipython",
    "version": 3
   },
   "file_extension": ".py",
   "mimetype": "text/x-python",
   "name": "python",
   "nbconvert_exporter": "python",
   "pygments_lexer": "ipython3",
   "version": "3.9.7"
  }
 },
 "nbformat": 4,
 "nbformat_minor": 5
}
