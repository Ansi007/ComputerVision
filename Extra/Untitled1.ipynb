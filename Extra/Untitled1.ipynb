{
 "cells": [
  {
   "cell_type": "code",
   "execution_count": 34,
   "id": "f0300ad1",
   "metadata": {},
   "outputs": [
    {
     "name": "stdout",
     "output_type": "stream",
     "text": [
      "Original Dimensions :  (415, 640)\n"
     ]
    }
   ],
   "source": [
    "import cv2\n",
    "import numpy as np\n",
    "\n",
    "img = cv2.imread('cat.jpg', cv2.IMREAD_UNCHANGED)\n",
    "img = cv2.cvtColor(img,cv2.COLOR_BGR2GRAY) \n",
    "print('Original Dimensions : ',img.shape)\n",
    "shape2 = int(img.shape[0]/2),int(img.shape[1]/2)\n",
    "resize2 = np.zeros(shape2)\n",
    "x,y = 0,0\n",
    "for i in range(0,img.shape[0] -1 ,2):\n",
    "    y = 0\n",
    "    for j in range(0,img.shape[1] -1,2):\n",
    "        resize2[x,y] = img[i,j]\n",
    "        y = y + 1\n",
    "    x = x + 1"
   ]
  },
  {
   "cell_type": "code",
   "execution_count": 35,
   "id": "4051b02d",
   "metadata": {},
   "outputs": [
    {
     "name": "stdout",
     "output_type": "stream",
     "text": [
      "Resized Dimensions :  (207, 320)\n"
     ]
    }
   ],
   "source": [
    "scale_percent = 50 # percent of original size\n",
    "width = int(img.shape[1] * scale_percent / 100)\n",
    "height = int(img.shape[0] * scale_percent / 100)\n",
    "dim = (width, height)\n",
    "  \n",
    "# resize image\n",
    "resized = cv2.resize(img, dim,150,33, cv2.INTER_AREA)\n",
    " \n",
    "print('Resized Dimensions : ',resized.shape)\n",
    "\n",
    "#cv2.imshow(\"Orignal image\", img) \n",
    "#cv2.imshow(\"Resized image\", resized)\n",
    "cv2.imshow(\"Orignal image\", img) \n",
    "cv2.imshow(\"Resized image\", resized)\n",
    "cv2.imshow(\"My Resize image\",resize2)\n",
    "cv2.waitKey(0)\n",
    "cv2.destroyAllWindows()"
   ]
  },
  {
   "cell_type": "code",
   "execution_count": 36,
   "id": "be87c9b9",
   "metadata": {},
   "outputs": [],
   "source": [
    "#print(img[0:9,0:9])"
   ]
  },
  {
   "cell_type": "code",
   "execution_count": 37,
   "id": "5cc9dac8",
   "metadata": {},
   "outputs": [],
   "source": [
    "#print(resized[0:9,0:9])"
   ]
  },
  {
   "cell_type": "code",
   "execution_count": 38,
   "id": "f8099daa",
   "metadata": {},
   "outputs": [
    {
     "name": "stdout",
     "output_type": "stream",
     "text": [
      "[[  8.   6.  32. ... 169. 168. 154.]\n",
      " [ 13.   7. 114. ... 177. 173. 172.]\n",
      " [ 33.  24.  28. ... 184. 177. 169.]\n",
      " ...\n",
      " [150. 152. 156. ...  90.  87.  69.]\n",
      " [146. 149. 155. ...  84.  77.  69.]\n",
      " [141. 145. 152. ...  77.  74.  69.]]\n"
     ]
    }
   ],
   "source": []
  },
  {
   "cell_type": "code",
   "execution_count": 39,
   "id": "b6e3dfa9",
   "metadata": {},
   "outputs": [
    {
     "name": "stdout",
     "output_type": "stream",
     "text": [
      "[[  8   4   6 ... 167 154 140]\n",
      " [ 22  23   1 ... 172 165 155]\n",
      " [ 13  22   7 ... 175 172 168]\n",
      " ...\n",
      " [141 143 145 ...  74  69  63]\n",
      " [140 141 143 ...  74  68  62]\n",
      " [139 140 143 ...  71  66  61]]\n"
     ]
    }
   ],
   "source": [
    "print(img)"
   ]
  },
  {
   "cell_type": "code",
   "execution_count": 40,
   "id": "21d9a856",
   "metadata": {},
   "outputs": [
    {
     "name": "stdout",
     "output_type": "stream",
     "text": [
      "[[  8.   6.  32. ... 169. 168. 154.]\n",
      " [ 13.   7. 114. ... 177. 173. 172.]\n",
      " [ 33.  24.  28. ... 184. 177. 169.]\n",
      " ...\n",
      " [150. 152. 156. ...  90.  87.  69.]\n",
      " [146. 149. 155. ...  84.  77.  69.]\n",
      " [141. 145. 152. ...  77.  74.  69.]]\n"
     ]
    }
   ],
   "source": [
    "print(resize2)"
   ]
  },
  {
   "cell_type": "code",
   "execution_count": 9,
   "id": "1bf90396",
   "metadata": {},
   "outputs": [
    {
     "name": "stdout",
     "output_type": "stream",
     "text": [
      "1\n",
      "2 2 1 1 1 1 2 2 1 1 1 1\n",
      "[[1. 1.]\n",
      " [1. 1.]]\n",
      "[[1. 1.]\n",
      " [1. 1.]]\n",
      "[[2. 2.]\n",
      " [2. 2.]]\n"
     ]
    }
   ],
   "source": [
    "import numpy\n",
    "N = int(input())\n",
    "for Z in range(int(N)):\n",
    "    line = input()\n",
    "    lineArr = line.split(' ')\n",
    "    x,y = int(lineArr[0]),int(lineArr[1])\n",
    "    array = numpy.zeros((x,y))\n",
    "    s = 2;\n",
    "    for i in range(x):\n",
    "        for j in range(y):\n",
    "            array[i,j] = int(lineArr[s])\n",
    "            s = s + 1\n",
    "    print(array)        \n",
    "    x,y = int(lineArr[s]),int(lineArr[s+1])\n",
    "    s = s + 1\n",
    "    s = s + 1\n",
    "    array1 = numpy.zeros((x,y))\n",
    "    for i in range(x):\n",
    "        for j in range(y):\n",
    "            array1[i,j] = int(lineArr[s])\n",
    "            s = s + 1\n",
    "    print(array1)\n",
    "    result = numpy.dot(array,array1)\n",
    "    print(result)"
   ]
  },
  {
   "cell_type": "code",
   "execution_count": 54,
   "id": "ab7db6f7",
   "metadata": {},
   "outputs": [],
   "source": [
    "# decalre an array\n",
    "from itertools import combinations\n",
    "\n",
    "def comb(arr):\n",
    "    size = len(arr)\n",
    "    size = int(size / 2)\n",
    "    return combinations(arr,size)\n",
    "\n",
    "def ArrayChallenge(arr):\n",
    "    combs = comb(arr)\n",
    "    for i in combs:\n",
    "        #calculate sum\n",
    "        sum = 0\n",
    "        for j in i:\n",
    "            sum += j\n",
    "        otherComb = list(set(arr) - set(i)) + list(set(i) - set(arr))\n",
    "        sum2 = 0\n",
    "        for k in otherComb:\n",
    "            sum2 += k\n",
    "        if sum == sum2:\n",
    "            return list(i),list(otherComb)\n",
    "    return -1\n",
    "\n",
    "def tokken(tokken, result):\n",
    "    string = \"\"\n",
    "    for i in result:\n",
    "        for k in i:\n",
    "            string += str(k)\n",
    "            string += \",\"\n",
    "    string += tokken\n",
    "    #replace every fourth character with underscore\n",
    "    for i in range(3,len(string),4):\n",
    "        string = string[:i] + \"_\" + string[i+1:]\n",
    "    return string    "
   ]
  },
  {
   "cell_type": "code",
   "execution_count": 55,
   "id": "f6fbb313",
   "metadata": {},
   "outputs": [],
   "source": [
    "arr = [1,2,1,5]"
   ]
  },
  {
   "cell_type": "code",
   "execution_count": 59,
   "id": "9b482bb3",
   "metadata": {},
   "outputs": [
    {
     "name": "stdout",
     "output_type": "stream",
     "text": [
      "-1l50msu6ae97\n"
     ]
    }
   ],
   "source": [
    "result = ArrayChallenge(arr)\n",
    "if result != -1:\n",
    "    tokken(\"l50msu6ae97\",result)\n",
    "else:\n",
    "    result = str(result) + \"l50msu6ae97\"\n",
    "print(result)"
   ]
  },
  {
   "cell_type": "code",
   "execution_count": 58,
   "id": "c8b4602a",
   "metadata": {},
   "outputs": [
    {
     "data": {
      "text/plain": [
       "-1"
      ]
     },
     "execution_count": 58,
     "metadata": {},
     "output_type": "execute_result"
    }
   ],
   "source": [
    "ArrayChallenge(arr)"
   ]
  },
  {
   "cell_type": "code",
   "execution_count": null,
   "id": "84721685",
   "metadata": {},
   "outputs": [],
   "source": []
  },
  {
   "cell_type": "code",
   "execution_count": null,
   "id": "6789cc26",
   "metadata": {},
   "outputs": [],
   "source": []
  }
 ],
 "metadata": {
  "kernelspec": {
   "display_name": "Python 3 (ipykernel)",
   "language": "python",
   "name": "python3"
  },
  "language_info": {
   "codemirror_mode": {
    "name": "ipython",
    "version": 3
   },
   "file_extension": ".py",
   "mimetype": "text/x-python",
   "name": "python",
   "nbconvert_exporter": "python",
   "pygments_lexer": "ipython3",
   "version": "3.9.7"
  }
 },
 "nbformat": 4,
 "nbformat_minor": 5
}
