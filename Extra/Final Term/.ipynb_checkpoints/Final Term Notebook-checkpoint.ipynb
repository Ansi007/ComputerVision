{
 "cells": [
  {
   "cell_type": "markdown",
   "id": "356cb009",
   "metadata": {},
   "source": [
    "# Scale Space"
   ]
  },
  {
   "cell_type": "code",
   "execution_count": 14,
   "id": "6e14c73f",
   "metadata": {},
   "outputs": [
    {
     "ename": "AttributeError",
     "evalue": "module 'cv2' has no attribute 'show'",
     "output_type": "error",
     "traceback": [
      "\u001b[1;31m---------------------------------------------------------------------------\u001b[0m",
      "\u001b[1;31mAttributeError\u001b[0m                            Traceback (most recent call last)",
      "\u001b[1;32m~\\AppData\\Local\\Temp/ipykernel_12388/195632057.py\u001b[0m in \u001b[0;36m<module>\u001b[1;34m\u001b[0m\n\u001b[0;32m      4\u001b[0m \u001b[1;31m# Read the image\u001b[0m\u001b[1;33m\u001b[0m\u001b[1;33m\u001b[0m\u001b[0m\n\u001b[0;32m      5\u001b[0m \u001b[0morig_image\u001b[0m \u001b[1;33m=\u001b[0m \u001b[0mcv2\u001b[0m\u001b[1;33m.\u001b[0m\u001b[0mimread\u001b[0m\u001b[1;33m(\u001b[0m\u001b[1;34m'book.png'\u001b[0m\u001b[1;33m)\u001b[0m\u001b[1;33m\u001b[0m\u001b[1;33m\u001b[0m\u001b[0m\n\u001b[1;32m----> 6\u001b[1;33m \u001b[0mcv2\u001b[0m\u001b[1;33m.\u001b[0m\u001b[0mshow\u001b[0m\u001b[1;33m(\u001b[0m\u001b[0morig_image\u001b[0m\u001b[1;33m)\u001b[0m\u001b[1;33m\u001b[0m\u001b[1;33m\u001b[0m\u001b[0m\n\u001b[0m",
      "\u001b[1;31mAttributeError\u001b[0m: module 'cv2' has no attribute 'show'"
     ]
    }
   ],
   "source": [
    "import cv2\n",
    "import numpy as np\n",
    "from matplotlib import pyplot as plt\n",
    "# Read the image\n",
    "orig_image = cv2.imread('book.png')\n",
    "cv2.imshow(\"book\", orig_image)\n",
    "\n",
    "for i in range(3):\n",
    "    img = orig_image\n",
    "    row, col, channel = img.shape\n",
    "    img = cv2.resize(img, (row // (2**i), col // (2**i)))\n",
    "    gray = cv2.cvtColor(img, cv2.COLOR_BGR2GRAY)\n",
    "    result = gray\n",
    "    print(img.shape)\n",
    "    \n",
    "    for j in range(5):        \n",
    "        smoothed_img = cv2.GaussianBlur(gray, (5,5), 2**j, 2**j)   \n",
    "        result = cv2.hconcat([result, smoothed_img])         \n",
    "    cv2.imshow(\"result\", result)\n",
    "    \n",
    "for i in range(3):\n",
    "    img = orig_image\n",
    "    row, col,channel = img.shape\n",
    "    img = cv2.resize(img, (row // (2**i), col // (2**i)))\n",
    "    gray = cv2.cvtColor(img, cv2.COLOR_BGR2GRAY)\n",
    "    result = gray\n",
    "    print(img.shape)\n",
    "    \n",
    "    for j in range(5):        \n",
    "        smoothed_img = cv2.GaussianBlur(gray, (5, 5), 2**j, 2**j) \n",
    "        dst = cv2.cornerHarris(smoothed_img, 3, 3, 0.04)\n",
    "        dst = cv2.dilate(dst, None)\n",
    "        smoothed_img[dst > 0.2 * dst.max()] = 255       \n",
    "        result = cv2.hconcat([result, smoothed_img])\n",
    "    \n",
    "    cv2.imshow(\"result2\", result)"
   ]
  },
  {
   "cell_type": "code",
   "execution_count": null,
   "id": "ca1bef02",
   "metadata": {},
   "outputs": [],
   "source": []
  },
  {
   "cell_type": "code",
   "execution_count": null,
   "id": "8ad8835d",
   "metadata": {},
   "outputs": [],
   "source": []
  },
  {
   "cell_type": "code",
   "execution_count": null,
   "id": "0ee0e66b",
   "metadata": {},
   "outputs": [],
   "source": []
  },
  {
   "cell_type": "code",
   "execution_count": null,
   "id": "8dc4555f",
   "metadata": {},
   "outputs": [],
   "source": []
  },
  {
   "cell_type": "code",
   "execution_count": null,
   "id": "2f7d452d",
   "metadata": {},
   "outputs": [],
   "source": []
  },
  {
   "cell_type": "code",
   "execution_count": null,
   "id": "833e51bf",
   "metadata": {},
   "outputs": [],
   "source": []
  },
  {
   "cell_type": "code",
   "execution_count": null,
   "id": "b6a0522c",
   "metadata": {},
   "outputs": [],
   "source": []
  },
  {
   "cell_type": "code",
   "execution_count": null,
   "id": "d7593402",
   "metadata": {},
   "outputs": [],
   "source": []
  },
  {
   "cell_type": "code",
   "execution_count": null,
   "id": "f7caef31",
   "metadata": {},
   "outputs": [],
   "source": []
  },
  {
   "cell_type": "markdown",
   "id": "10e58762",
   "metadata": {},
   "source": [
    "# First Order Features"
   ]
  },
  {
   "cell_type": "code",
   "execution_count": 20,
   "id": "77003582",
   "metadata": {},
   "outputs": [],
   "source": [
    "import numpy as np\n",
    "import math"
   ]
  },
  {
   "cell_type": "code",
   "execution_count": 21,
   "id": "537755c3",
   "metadata": {},
   "outputs": [],
   "source": [
    "#Mean (u)\n",
    "#Tells about the average intensity of the image\n",
    "def mean(matrix):\n",
    "    m,n = matrix.shape\n",
    "    mean = 0\n",
    "    for i in range(m):\n",
    "        for j in range(n):\n",
    "            mean = mean + matrix[i,j]\n",
    "    mean = mean / (m*n)\n",
    "    return mean"
   ]
  },
  {
   "cell_type": "code",
   "execution_count": 22,
   "id": "b3da9821",
   "metadata": {},
   "outputs": [],
   "source": [
    "#Median (med)\n",
    "#Gives the middle value of intensity after sorting it\n",
    "def median(matrix):\n",
    "    m,n = matrix.shape\n",
    "    N = m * n\n",
    "    matrix = matrix.flatten()\n",
    "    matrix = np.sort(matrix)\n",
    "    index = (N + 1)/2\n",
    "    index = math.floor(index) - 1\n",
    "    return matrix[index]"
   ]
  },
  {
   "cell_type": "code",
   "execution_count": 23,
   "id": "c855e2fc",
   "metadata": {},
   "outputs": [],
   "source": [
    "#Variance (sigma)^2\n",
    "#Tells how much variation in intensites exist\n",
    "#Variance indicates how likely gray level values vary within the image patch I\n",
    "def variance(matrix):\n",
    "    m,n = matrix.shape\n",
    "    N = m * n\n",
    "    variance = 0\n",
    "    u = mean(matrix)\n",
    "    for i in range(m):\n",
    "        for j in range(n):\n",
    "            variance = variance + ((matrix[i,j] - u) ** 2)\n",
    "    variance = variance / (N - 1)\n",
    "    return variance"
   ]
  },
  {
   "cell_type": "code",
   "execution_count": 24,
   "id": "f7381d58",
   "metadata": {},
   "outputs": [],
   "source": [
    "#Standard deviation is computed by taking square root of the variance\n",
    "def standard_deviation(matrix):\n",
    "    return math.sqrt(variance(matrix))"
   ]
  },
  {
   "cell_type": "code",
   "execution_count": 25,
   "id": "cb701222",
   "metadata": {},
   "outputs": [],
   "source": [
    "def skewness(matrix):\n",
    "    m,n = matrix.shape\n",
    "    N = m * n\n",
    "    u = mean(matrix)\n",
    "    sigma = standard_deviation(matrix)\n",
    "    sk = 0\n",
    "    for i in range(m):\n",
    "        for j in range(n):\n",
    "            sk = sk + ((matrix[i,j] - u) ** 3)\n",
    "    sk = sk/((N-1)*(sigma**3))\n",
    "    return sk"
   ]
  },
  {
   "cell_type": "code",
   "execution_count": 26,
   "id": "383b1957",
   "metadata": {},
   "outputs": [],
   "source": [
    "def kurtosis(matrix):\n",
    "    m,n = matrix.shape\n",
    "    N = m * n\n",
    "    u = mean(matrix)\n",
    "    sigma = standard_deviation(matrix)\n",
    "    sk = 0\n",
    "    for i in range(m):\n",
    "        for j in range(n):\n",
    "            sk = sk + ((matrix[i,j] - u) ** 4)\n",
    "    sk = sk/((N-1)*(sigma**4))\n",
    "    return sk"
   ]
  },
  {
   "cell_type": "code",
   "execution_count": 27,
   "id": "1c8b11b5",
   "metadata": {},
   "outputs": [],
   "source": [
    "#Mean Absolute Deviation (mad)\n",
    "#Tells about the average difference of each intensity with the mean of image\n",
    "def mean_absolute_deviation(matrix):\n",
    "    m,n = matrix.shape\n",
    "    N = m*n\n",
    "    u = mean(matrix)\n",
    "    mad = 0\n",
    "    for i in range(m):\n",
    "        for j in range(n):\n",
    "            mad = mad + (matrix[i,j] - u)\n",
    "    mad = mad / N\n",
    "    return mad"
   ]
  },
  {
   "cell_type": "code",
   "execution_count": 28,
   "id": "93dd3453",
   "metadata": {},
   "outputs": [],
   "source": [
    "def median_absolute_deviation(matrix):\n",
    "    m,n = matrix.shape\n",
    "    N = m*n\n",
    "    Y = np.zeros((N))\n",
    "    a = 0\n",
    "    mad = mean_absolute_deviation(matrix)\n",
    "    matrix = matrix.flatten()\n",
    "    for i in range(N):\n",
    "            Y[a] = matrix[i] - mad\n",
    "            a = a + 1\n",
    "    Y = np.sort(Y)\n",
    "    print(Y)\n",
    "    index = math.floor((N+1)/2)-1\n",
    "    return Y[index]"
   ]
  },
  {
   "cell_type": "code",
   "execution_count": 29,
   "id": "d35e1426",
   "metadata": {},
   "outputs": [],
   "source": [
    "def local_contrast(matrix):\n",
    "    return np.max(matrix) - np.min(matrix)"
   ]
  },
  {
   "cell_type": "code",
   "execution_count": 30,
   "id": "6328c8b1",
   "metadata": {},
   "outputs": [],
   "source": [
    "def local_probability(matrix, k):\n",
    "    m,n = matrix.shape\n",
    "    N = m*n\n",
    "    lp = 0\n",
    "    for i in range(m):\n",
    "        for j in range(n):\n",
    "            if(matrix[i,j] == k):\n",
    "                lp = lp + 1\n",
    "    return lp/N"
   ]
  },
  {
   "cell_type": "code",
   "execution_count": 31,
   "id": "f0cc5d5c",
   "metadata": {},
   "outputs": [],
   "source": [
    "def percentile(matrix, x):\n",
    "    m,n = matrix.shape\n",
    "    N = m*n\n",
    "    matrix = matrix.flatten()\n",
    "    matrix = np.sort(matrix)\n",
    "    index = N * (x/100)\n",
    "    index = math.floor(index)-1\n",
    "    return matrix[index]"
   ]
  },
  {
   "cell_type": "markdown",
   "id": "2c773420",
   "metadata": {},
   "source": [
    "# Second Order Features"
   ]
  },
  {
   "cell_type": "code",
   "execution_count": 32,
   "id": "8381e0e8",
   "metadata": {},
   "outputs": [],
   "source": [
    "def GLCM(matrix, d, theeta):\n",
    "    minV = np.min(matrix)\n",
    "    maxV = np.max(matrix)\n",
    "    size = maxV - minV + 1\n",
    "    M = np.zeros((size,size))\n",
    "    m,n = matrix.shape\n",
    "    for i in range(m):\n",
    "        for j in range(n):\n",
    "            if(theeta == 0):\n",
    "                I = i\n",
    "                J = j + d\n",
    "            elif(theeta == 45):\n",
    "                I = i - d\n",
    "                J = j + d\n",
    "            elif(theeta == 90):\n",
    "                I = i - d\n",
    "                J = j\n",
    "            elif(theeta == 135):\n",
    "                I = i - d\n",
    "                J = j - d\n",
    "            if(I < 0 or J < 0 or I >= m or J >= n):\n",
    "                continue\n",
    "            R = matrix[i,j]\n",
    "            C = matrix[I,J]\n",
    "            M[R,C] = M[R,C] + 1\n",
    "    #print(M)        \n",
    "    Mt = np.transpose(M)\n",
    "    #print(Mt)\n",
    "    Ms = M + Mt\n",
    "    #print(Ms)\n",
    "    sumV = Ms.sum()\n",
    "    Ms = Ms / sumV\n",
    "    return Ms"
   ]
  },
  {
   "cell_type": "code",
   "execution_count": 33,
   "id": "59c7497c",
   "metadata": {},
   "outputs": [],
   "source": [
    "def energy(GLCM):\n",
    "    return (GLCM ** 2).sum()"
   ]
  },
  {
   "cell_type": "code",
   "execution_count": 34,
   "id": "484a30d0",
   "metadata": {},
   "outputs": [],
   "source": [
    "def homogenity(GLCM):\n",
    "    m,n = GLCM.shape\n",
    "    hom = 0\n",
    "    for i in range(m):\n",
    "        for j in range(n):\n",
    "            hom = hom + (GLCM[i,j]/(1+((i-j)**2)))\n",
    "    return hom"
   ]
  },
  {
   "cell_type": "code",
   "execution_count": 35,
   "id": "4232be2f",
   "metadata": {},
   "outputs": [],
   "source": [
    "def contrast(GLCM):\n",
    "    m,n = GLCM.shape\n",
    "    hom = 0\n",
    "    for i in range(m):\n",
    "        for j in range(n):\n",
    "            hom = hom + (((i-j)**2)*GLCM[i,j])\n",
    "    return hom"
   ]
  },
  {
   "cell_type": "code",
   "execution_count": 36,
   "id": "79fa8b01",
   "metadata": {},
   "outputs": [],
   "source": [
    "def entropy(GLCM):\n",
    "    m,n = GLCM.shape\n",
    "    hom = 0\n",
    "    for i in range(m):\n",
    "        for j in range(n):\n",
    "            hom = hom + (GLCM[i,j]*(math.log1p(GLCM[i,j])))\n",
    "    return hom"
   ]
  },
  {
   "cell_type": "code",
   "execution_count": 37,
   "id": "748a5c03",
   "metadata": {},
   "outputs": [],
   "source": [
    "def correlation(GLCM):\n",
    "    ux = Ux(GLCM)\n",
    "    uy = Uy(GLCM)\n",
    "    sigmaX,sigmaY = Sigma(GLCM, ux)\n",
    "    corr = 0\n",
    "    m,n = GLCM.shape\n",
    "    for i in range(m):\n",
    "        for j in range(n):\n",
    "            value = ((i-ux)*(j-uy)*GLCM[i,j])/(sigmaX*sigmaY)\n",
    "            corr = corr + value        \n",
    "    return corr\n",
    "        \n",
    "def Ux(GLCM):\n",
    "    m,n = GLCM.shape\n",
    "    ux = 0\n",
    "    for i in range(m):\n",
    "        ux = ux + Px(i,GLCM[i,:])\n",
    "    return ux\n",
    "\n",
    "def Uy(GLCM):\n",
    "    return Ux(GLCM)\n",
    "\n",
    "def Sigma(GLCM, u):\n",
    "    m,n = GLCM.shape\n",
    "    sigmaX = 0\n",
    "    for i in range(m):\n",
    "        sigmaX = sigmaX + ((Px(1,GLCM[i,:]))*((i-u)**2))\n",
    "    sigmaX = math.sqrt(sigmaX)\n",
    "    return sigmaX,sigmaX\n",
    "\n",
    "def Px(i,row):\n",
    "    return i * row.sum()"
   ]
  },
  {
   "cell_type": "code",
   "execution_count": 38,
   "id": "d6d365f6",
   "metadata": {},
   "outputs": [
    {
     "name": "stdout",
     "output_type": "stream",
     "text": [
      "Mean:  90.66666666666667\n",
      "Median:  55\n",
      "Variance:  6911.5\n",
      "Standard Deviation:  83.13543167627147\n",
      "Skewness:  0.3840972881163714\n",
      "Kurtosis:  1.415803959355387\n",
      "Mean Absolute Deviation:  -3.157967714489334e-15\n",
      "[3.15796771e-15 1.30000000e+01 1.90000000e+01 4.10000000e+01\n",
      " 5.50000000e+01 1.22000000e+02 1.50000000e+02 2.00000000e+02\n",
      " 2.16000000e+02]\n",
      "Median Absolute Deviation:  55.0\n",
      "Local Contrast:  216\n",
      "Local Probability:  0.1111111111111111\n",
      "Percentile at 25:  13\n",
      "Percentile at 75:  122\n"
     ]
    }
   ],
   "source": [
    "#matrix = np.array(([2,4],[6,8]))\n",
    "#matrix = np.array(([0,0,1,1],[0,0,1,1],[0,2,2,2],[2,2,3,3]))\n",
    "matrix = np.array(([122,200,13],[41,55,216],[150,0,19]))\n",
    "print(\"Mean: \", mean(matrix))\n",
    "print(\"Median: \", median(matrix))\n",
    "print(\"Variance: \", variance(matrix))\n",
    "print(\"Standard Deviation: \", standard_deviation(matrix))\n",
    "print(\"Skewness: \", skewness(matrix))\n",
    "print(\"Kurtosis: \", kurtosis(matrix))\n",
    "print(\"Mean Absolute Deviation: \", mean_absolute_deviation(matrix))\n",
    "print(\"Median Absolute Deviation: \", median_absolute_deviation(matrix))\n",
    "print(\"Local Contrast: \", local_contrast(matrix))\n",
    "print(\"Local Probability: \", local_probability(matrix, 200))\n",
    "print(\"Percentile at 25: \", percentile(matrix, 25))\n",
    "print(\"Percentile at 75: \", percentile(matrix, 75))"
   ]
  },
  {
   "cell_type": "code",
   "execution_count": 39,
   "id": "1d885017",
   "metadata": {},
   "outputs": [
    {
     "name": "stdout",
     "output_type": "stream",
     "text": [
      "GLCM:  [[0. 0. 0. ... 0. 0. 0.]\n",
      " [0. 0. 0. ... 0. 0. 0.]\n",
      " [0. 0. 0. ... 0. 0. 0.]\n",
      " ...\n",
      " [0. 0. 0. ... 0. 0. 0.]\n",
      " [0. 0. 0. ... 0. 0. 0.]\n",
      " [0. 0. 0. ... 0. 0. 0.]]\n",
      "Energy:  0.08333333333333333\n",
      "Homogenity:  0.001352421214577631\n",
      "Contrast:  15005.166666666664\n",
      "Entropy:  0.08004270767353644\n",
      "Correlation:  -0.17358900073975825\n"
     ]
    }
   ],
   "source": [
    "matrix = np.array(([122,200,13],[41,55,216],[150,0,19]))\n",
    "GLCM = GLCM(matrix,1,0)\n",
    "print(\"GLCM: \", GLCM)\n",
    "print(\"Energy: \", energy(GLCM))\n",
    "print(\"Homogenity: \", homogenity(GLCM))\n",
    "print(\"Contrast: \", contrast(GLCM))\n",
    "print(\"Entropy: \", entropy(GLCM))\n",
    "print(\"Correlation: \", correlation(GLCM))"
   ]
  },
  {
   "cell_type": "code",
   "execution_count": null,
   "id": "4d08d529",
   "metadata": {},
   "outputs": [],
   "source": []
  },
  {
   "cell_type": "code",
   "execution_count": null,
   "id": "6447be5e",
   "metadata": {},
   "outputs": [],
   "source": []
  },
  {
   "cell_type": "code",
   "execution_count": null,
   "id": "8b9fc5d6",
   "metadata": {},
   "outputs": [],
   "source": []
  },
  {
   "cell_type": "code",
   "execution_count": null,
   "id": "85aaf488",
   "metadata": {},
   "outputs": [],
   "source": []
  },
  {
   "cell_type": "code",
   "execution_count": null,
   "id": "cbc616d8",
   "metadata": {},
   "outputs": [],
   "source": []
  },
  {
   "cell_type": "code",
   "execution_count": null,
   "id": "8870623a",
   "metadata": {},
   "outputs": [],
   "source": []
  }
 ],
 "metadata": {
  "kernelspec": {
   "display_name": "Python 3 (ipykernel)",
   "language": "python",
   "name": "python3"
  },
  "language_info": {
   "codemirror_mode": {
    "name": "ipython",
    "version": 3
   },
   "file_extension": ".py",
   "mimetype": "text/x-python",
   "name": "python",
   "nbconvert_exporter": "python",
   "pygments_lexer": "ipython3",
   "version": "3.9.7"
  }
 },
 "nbformat": 4,
 "nbformat_minor": 5
}
