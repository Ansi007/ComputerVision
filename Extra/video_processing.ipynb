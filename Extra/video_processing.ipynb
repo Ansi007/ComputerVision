{
 "cells": [
  {
   "cell_type": "markdown",
   "metadata": {
    "id": "z_UQTSY4ju1V"
   },
   "source": [
    "# <center>Computer Vision</center>  <center>Spring 2022</center> "
   ]
  },
  {
   "cell_type": "markdown",
   "metadata": {},
   "source": [
    "# Video Processing"
   ]
  },
  {
   "cell_type": "markdown",
   "metadata": {},
   "source": [
    "#### Importing required libraries "
   ]
  },
  {
   "cell_type": "code",
   "execution_count": 1,
   "metadata": {},
   "outputs": [],
   "source": [
    "import numpy as np\n",
    "import cv2\n",
    "import sys"
   ]
  },
  {
   "cell_type": "markdown",
   "metadata": {},
   "source": [
    "### Capture Video from Camera\n",
    "\n",
    "To capture a video, create a VideoCapture object. Its argument can be either the device index or the name of a video file. A device index is just the number to specify which camera. Normally one camera will be connected, so simply pass 0. Select the second camera by passing 1 and so on. After that, you can capture frame-by-frame.\n",
    "\n",
    "waitKey(0) will display the window infinitely until any keypress (it is suitable for image display).<br/>\n",
    "waitKey(1) the function will show a frame for at least 1 millisecond only."
   ]
  },
  {
   "cell_type": "code",
   "execution_count": 2,
   "metadata": {},
   "outputs": [],
   "source": [
    "video = cv2.VideoCapture(0)\n",
    "\n",
    "if not video.isOpened():\n",
    "    print(\"Cannot open camera\")\n",
    "    sys.exit()\n",
    "    \n",
    "while True:\n",
    "    # Capture frame-by-frame\n",
    "    ret, frame = video.read()\n",
    "    \n",
    "    # if frame is read correctly ret is True\n",
    "    if not ret:\n",
    "        print(\"Can't receive frame. Exiting!!!\")\n",
    "        break\n",
    "        \n",
    "    # Display the resulting frame\n",
    "    cv2.imshow('frame', frame)\n",
    "    \n",
    "    # setting \"q\" as exiting \n",
    "    if cv2.waitKey(1) == ord('q'):\n",
    "        break\n",
    "        \n",
    "# When everything done, release the capture\n",
    "video.release()\n",
    "cv2.destroyAllWindows()\n"
   ]
  },
  {
   "cell_type": "markdown",
   "metadata": {},
   "source": [
    "### Playing Video\n",
    "\n",
    "Playing video from file is the same as capturing it from camera, just change the camera index to a video file name. Also while displaying the frame, use appropriate time for cv2.waitKey(). If it is too less, video will be very fast and if it is too high, video will be slow (That is how you can display videos in slow motion)."
   ]
  },
  {
   "cell_type": "code",
   "execution_count": 3,
   "metadata": {},
   "outputs": [],
   "source": [
    "video_watch = cv2.VideoCapture(\"video.mp4\")\n",
    "\n",
    "while video_watch.isOpened():\n",
    "    ret, frame = video_watch.read()\n",
    "    # if frame is read correctly ret is True\n",
    "    if not ret:\n",
    "        print(\"Can't receive frame. Exiting!!!\")\n",
    "        break\n",
    "        \n",
    "    cv2.imshow('frame', frame)\n",
    "    \n",
    "    # setting \"q\" as exiting \n",
    "    if cv2.waitKey(10) == ord('q'):\n",
    "        break\n",
    "video_watch.release()\n",
    "cv2.destroyAllWindows()"
   ]
  },
  {
   "cell_type": "markdown",
   "metadata": {},
   "source": [
    "### Saving Video\n",
    "\n",
    "cv2.VideoWriter()<br/>\n",
    "- output file name \n",
    "- FourCC code (FOURCC is short for \"four character code\" - an identifier for a video codec, compression format, color or pixel format used in media files)\n",
    "- number of frames per second (FPS)\n",
    "- frame size"
   ]
  },
  {
   "cell_type": "code",
   "execution_count": 4,
   "metadata": {},
   "outputs": [],
   "source": [
    "video = cv2.VideoCapture(0)\n",
    "\n",
    "# Define the codec and create VideoWriter object\n",
    "# The codecs for Windows is DIVX \n",
    "fourcc = cv2.VideoWriter_fourcc(*'DIVX')\n",
    "frames_per_second = 20\n",
    "frame_size = (640,  480)\n",
    "\n",
    "out = cv2.VideoWriter('output.mp4', fourcc, frames_per_second, frame_size)\n",
    "\n",
    "while video.isOpened():\n",
    "    ret, frame = video.read()\n",
    "    if not ret:\n",
    "        print(\"Can't receive frame. Exiting!!!\")\n",
    "        break\n",
    "    \n",
    "    # \n",
    "    # write the flipped frame\n",
    "    out.write(frame)\n",
    "    cv2.imshow('frame', frame)\n",
    "    \n",
    "    # setting \"q\" as exiting \n",
    "    if cv2.waitKey(1) == ord('q'):\n",
    "        break\n",
    "# Release everything if job is finished\n",
    "# setting \"q\" as exiting .release()\n",
    "out.release()\n",
    "cv2.destroyAllWindows()"
   ]
  },
  {
   "cell_type": "code",
   "execution_count": null,
   "metadata": {},
   "outputs": [],
   "source": []
  },
  {
   "cell_type": "code",
   "execution_count": null,
   "metadata": {},
   "outputs": [],
   "source": []
  }
 ],
 "metadata": {
  "kernelspec": {
   "display_name": "Python 3 (ipykernel)",
   "language": "python",
   "name": "python3"
  },
  "language_info": {
   "codemirror_mode": {
    "name": "ipython",
    "version": 3
   },
   "file_extension": ".py",
   "mimetype": "text/x-python",
   "name": "python",
   "nbconvert_exporter": "python",
   "pygments_lexer": "ipython3",
   "version": "3.9.7"
  }
 },
 "nbformat": 4,
 "nbformat_minor": 4
}
